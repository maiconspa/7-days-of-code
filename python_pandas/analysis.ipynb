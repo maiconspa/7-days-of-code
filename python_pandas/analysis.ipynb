{
 "cells": [
  {
   "cell_type": "code",
   "execution_count": 1,
   "id": "ddff4c87-0048-4d1e-abaf-4b94eb4bfe64",
   "metadata": {},
   "outputs": [],
   "source": [
    "import pandas as pd"
   ]
  },
  {
   "cell_type": "markdown",
   "id": "dc5b1609-00a2-4360-9d35-d0ac822aecbd",
   "metadata": {},
   "source": [
    "# Dia 1 - importação de Dados"
   ]
  },
  {
   "cell_type": "markdown",
   "id": "cb1fde9a-30e4-4708-abd9-21ee1ddaedb8",
   "metadata": {},
   "source": [
    "## Dados de Emprestimos"
   ]
  },
  {
   "cell_type": "markdown",
   "id": "313e4c84-7b5f-4c3f-9d59-03720e23f65c",
   "metadata": {},
   "source": [
    "### Coleta"
   ]
  },
  {
   "cell_type": "code",
   "execution_count": 2,
   "id": "d352b65b-b0d3-4ee1-9b7c-6ef870e41674",
   "metadata": {},
   "outputs": [],
   "source": [
    "dados_2010_1 = pd.read_csv('./datasets/dados_emprestimos/emprestimos-20101.csv')\n",
    "dados_2010_2 = pd.read_csv('./datasets/dados_emprestimos//emprestimos-20102.csv')\n",
    "dados_2011_1 = pd.read_csv('./datasets/dados_emprestimos//emprestimos-20111.csv')\n",
    "dados_2011_2 = pd.read_csv('./datasets/dados_emprestimos//emprestimos-20112.csv')\n",
    "dados_2012_1 = pd.read_csv('./datasets/dados_emprestimos//emprestimos-20121.csv')\n",
    "dados_2012_2 = pd.read_csv('./datasets/dados_emprestimos//emprestimos-20122.csv')\n",
    "dados_2013_1 = pd.read_csv('./datasets/dados_emprestimos//emprestimos-20131.csv')\n",
    "dados_2013_2 = pd.read_csv('./datasets/dados_emprestimos//emprestimos-20132.csv')\n",
    "dados_2014_1 = pd.read_csv('./datasets/dados_emprestimos//emprestimos-20141.csv')\n",
    "dados_2014_2 = pd.read_csv('./datasets/dados_emprestimos//emprestimos-20142.csv')\n",
    "dados_2015_1 = pd.read_csv('./datasets/dados_emprestimos//emprestimos-20151.csv')\n",
    "dados_2015_2 = pd.read_csv('./datasets/dados_emprestimos//emprestimos-20152.csv')\n",
    "dados_2016_1 = pd.read_csv('./datasets/dados_emprestimos//emprestimos-20161.csv')\n",
    "dados_2016_2 = pd.read_csv('./datasets/dados_emprestimos//emprestimos-20162.csv')\n",
    "dados_2017_1 = pd.read_csv('./datasets/dados_emprestimos//emprestimos-20171.csv')\n",
    "dados_2017_2 = pd.read_csv('./datasets/dados_emprestimos//emprestimos-20172.csv')\n",
    "dados_2018_1 = pd.read_csv('./datasets/dados_emprestimos//emprestimos-20181.csv')\n",
    "dados_2018_2 = pd.read_csv('./datasets/dados_emprestimos//emprestimos-20182.csv')\n",
    "dados_2019_1 = pd.read_csv('./datasets/dados_emprestimos//emprestimos-20191.csv')\n",
    "dados_2019_2 = pd.read_csv('./datasets/dados_emprestimos//emprestimos-20192.csv')\n",
    "dados_2020_1 = pd.read_csv('./datasets/dados_emprestimos//emprestimos-20201.csv')"
   ]
  },
  {
   "cell_type": "markdown",
   "id": "33d7b68e-0543-4353-9211-13882bae2e4e",
   "metadata": {},
   "source": [
    "### Unificando bases de dados"
   ]
  },
  {
   "cell_type": "code",
   "execution_count": 3,
   "id": "2f1d5dac-6a0a-406a-a558-b333cac8b3fd",
   "metadata": {},
   "outputs": [
    {
     "data": {
      "text/html": [
       "<div>\n",
       "<style scoped>\n",
       "    .dataframe tbody tr th:only-of-type {\n",
       "        vertical-align: middle;\n",
       "    }\n",
       "\n",
       "    .dataframe tbody tr th {\n",
       "        vertical-align: top;\n",
       "    }\n",
       "\n",
       "    .dataframe thead th {\n",
       "        text-align: right;\n",
       "    }\n",
       "</style>\n",
       "<table border=\"1\" class=\"dataframe\">\n",
       "  <thead>\n",
       "    <tr style=\"text-align: right;\">\n",
       "      <th></th>\n",
       "      <th>id_emprestimo</th>\n",
       "      <th>codigo_barras</th>\n",
       "      <th>data_renovacao</th>\n",
       "      <th>data_emprestimo</th>\n",
       "      <th>data_devolucao</th>\n",
       "      <th>matricula_ou_siape</th>\n",
       "      <th>tipo_vinculo_usuario</th>\n",
       "    </tr>\n",
       "  </thead>\n",
       "  <tbody>\n",
       "    <tr>\n",
       "      <th>0</th>\n",
       "      <td>709684</td>\n",
       "      <td>L095049</td>\n",
       "      <td>NaN</td>\n",
       "      <td>2010/01/04 07:44:10.721000000</td>\n",
       "      <td>2010/01/05 16:26:12.662000000</td>\n",
       "      <td>2.008023e+09</td>\n",
       "      <td>ALUNO DE GRADUAÇÃO</td>\n",
       "    </tr>\n",
       "    <tr>\n",
       "      <th>1</th>\n",
       "      <td>709685</td>\n",
       "      <td>L167050</td>\n",
       "      <td>NaN</td>\n",
       "      <td>2010/01/04 07:44:10.750000000</td>\n",
       "      <td>2010/01/12 07:34:13.934000000</td>\n",
       "      <td>2.008023e+09</td>\n",
       "      <td>ALUNO DE GRADUAÇÃO</td>\n",
       "    </tr>\n",
       "    <tr>\n",
       "      <th>2</th>\n",
       "      <td>709686</td>\n",
       "      <td>2006017618</td>\n",
       "      <td>2010/01/26 08:07:01.738000000</td>\n",
       "      <td>2010/01/04 08:08:44.081000000</td>\n",
       "      <td>2010/02/25 07:36:25.800000000</td>\n",
       "      <td>2.008112e+09</td>\n",
       "      <td>ALUNO DE PÓS-GRADUAÇÃO</td>\n",
       "    </tr>\n",
       "    <tr>\n",
       "      <th>3</th>\n",
       "      <td>709687</td>\n",
       "      <td>L184117</td>\n",
       "      <td>2010/01/18 11:07:46.470000000</td>\n",
       "      <td>2010/01/04 08:24:21.284000000</td>\n",
       "      <td>2010/02/03 08:58:45.692000000</td>\n",
       "      <td>2.007211e+08</td>\n",
       "      <td>ALUNO DE GRADUAÇÃO</td>\n",
       "    </tr>\n",
       "    <tr>\n",
       "      <th>4</th>\n",
       "      <td>709684</td>\n",
       "      <td>L095049</td>\n",
       "      <td>NaN</td>\n",
       "      <td>2010/01/04 07:44:10.721000000</td>\n",
       "      <td>2010/01/05 16:26:12.662000000</td>\n",
       "      <td>2.008023e+09</td>\n",
       "      <td>ALUNO DE GRADUAÇÃO</td>\n",
       "    </tr>\n",
       "  </tbody>\n",
       "</table>\n",
       "</div>"
      ],
      "text/plain": [
       "   id_emprestimo codigo_barras                 data_renovacao  \\\n",
       "0         709684       L095049                            NaN   \n",
       "1         709685       L167050                            NaN   \n",
       "2         709686    2006017618  2010/01/26 08:07:01.738000000   \n",
       "3         709687       L184117  2010/01/18 11:07:46.470000000   \n",
       "4         709684       L095049                            NaN   \n",
       "\n",
       "                 data_emprestimo                 data_devolucao  \\\n",
       "0  2010/01/04 07:44:10.721000000  2010/01/05 16:26:12.662000000   \n",
       "1  2010/01/04 07:44:10.750000000  2010/01/12 07:34:13.934000000   \n",
       "2  2010/01/04 08:08:44.081000000  2010/02/25 07:36:25.800000000   \n",
       "3  2010/01/04 08:24:21.284000000  2010/02/03 08:58:45.692000000   \n",
       "4  2010/01/04 07:44:10.721000000  2010/01/05 16:26:12.662000000   \n",
       "\n",
       "   matricula_ou_siape    tipo_vinculo_usuario  \n",
       "0        2.008023e+09      ALUNO DE GRADUAÇÃO  \n",
       "1        2.008023e+09      ALUNO DE GRADUAÇÃO  \n",
       "2        2.008112e+09  ALUNO DE PÓS-GRADUAÇÃO  \n",
       "3        2.007211e+08      ALUNO DE GRADUAÇÃO  \n",
       "4        2.008023e+09      ALUNO DE GRADUAÇÃO  "
      ]
     },
     "execution_count": 3,
     "metadata": {},
     "output_type": "execute_result"
    }
   ],
   "source": [
    "emprestimos_df = pd.concat([dados_2010_1, dados_2010_2, dados_2011_1, dados_2011_2,\n",
    "                            dados_2012_1, dados_2012_2, dados_2013_1, dados_2013_2,\n",
    "                            dados_2014_1, dados_2014_2, dados_2015_1, dados_2015_2,\n",
    "                            dados_2016_1, dados_2016_2, dados_2017_1, dados_2017_2,\n",
    "                            dados_2018_1, dados_2018_2, dados_2019_1, dados_2019_2,\n",
    "                            dados_2020_1], ignore_index=True)\n",
    "\n",
    "emprestimos_df.head()"
   ]
  },
  {
   "cell_type": "markdown",
   "id": "69e0511f-5edb-408b-80da-67abdbac419f",
   "metadata": {},
   "source": [
    "### Verificando duplicatas"
   ]
  },
  {
   "cell_type": "code",
   "execution_count": 4,
   "id": "bbf77757-8ed6-468a-9beb-9519525a2309",
   "metadata": {},
   "outputs": [
    {
     "data": {
      "text/plain": [
       "id_emprestimo  codigo_barras  data_renovacao                 data_emprestimo                data_devolucao                 matricula_ou_siape  tipo_vinculo_usuario  \n",
       "709705         2009032168     2010/01/17 18:56:43.909000000  2010/01/04 09:58:46.549000000  2010/01/20 13:14:34.464000000  2.008010e+09        ALUNO DE GRADUAÇÃO        7\n",
       "709704         2006021442     2010/01/17 18:56:43.923000000  2010/01/04 09:58:46.522000000  2010/02/01 13:59:02.528000000  2.008010e+09        ALUNO DE GRADUAÇÃO        7\n",
       "709698         2009047725     2010/01/18 14:44:41.163000000  2010/01/04 09:21:19.099000000  2010/02/02 12:02:38.444000000  2.009047e+09        ALUNO DE GRADUAÇÃO        3\n",
       "2351375        L057436        2016/01/31 07:30:36.293000000  2016/01/02 08:38:40.009000000  2016/02/21 13:16:29.000000000  2.016101e+10        ALUNO DE PÓS-GRADUAÇÃO    2\n",
       "2351376        H004983        2016/01/31 07:31:36.786000000  2016/01/02 08:46:42.991000000  2016/02/22 16:10:28.000000000  2.016101e+10        ALUNO DE PÓS-GRADUAÇÃO    2\n",
       "                                                                                                                                                                        ..\n",
       "1443393        2012037906     2013/03/20 20:17:10.574000000  2013/03/07 11:24:19.326000000  2013/03/25 08:58:44.000000000  2.011038e+09        ALUNO DE GRADUAÇÃO        1\n",
       "1443395        2011033069     2013/04/07 01:06:51.679000000  2013/03/07 11:25:22.661000000  2013/05/07 16:19:34.000000000  2.011106e+09        ALUNO DE PÓS-GRADUAÇÃO    1\n",
       "1443401        2011078773     2013/03/22 18:04:25.360000000  2013/03/07 11:26:28.326000000  2013/04/03 16:53:35.000000000  2.012038e+09        ALUNO DE GRADUAÇÃO        1\n",
       "1443402        2012043035     2013/03/14 09:32:24.614000000  2013/03/07 11:27:24.876000000  2013/04/01 08:58:02.000000000  2.013025e+09        ALUNO DE GRADUAÇÃO        1\n",
       "1443366        2010049712     2013/03/20 20:11:43.832000000  2013/03/07 11:10:58.775000000  2013/04/04 08:27:18.000000000  2.012936e+09        ALUNO DE GRADUAÇÃO        1\n",
       "Name: count, Length: 968028, dtype: int64"
      ]
     },
     "execution_count": 4,
     "metadata": {},
     "output_type": "execute_result"
    }
   ],
   "source": [
    "emprestimos_df.value_counts()"
   ]
  },
  {
   "cell_type": "markdown",
   "id": "11eb8970-da58-403b-99d7-a0ce519d4cdd",
   "metadata": {},
   "source": [
    "### Removendo duplicatas"
   ]
  },
  {
   "cell_type": "code",
   "execution_count": 5,
   "id": "6d23aece-1950-4b86-a4d3-78deb04523bf",
   "metadata": {},
   "outputs": [],
   "source": [
    "emprestimos_df = emprestimos_df.drop_duplicates()"
   ]
  },
  {
   "cell_type": "code",
   "execution_count": 6,
   "id": "8afd26c6-196d-4cd1-b4d3-9291c12c4146",
   "metadata": {},
   "outputs": [
    {
     "data": {
      "text/plain": [
       "id_emprestimo  codigo_barras  data_renovacao                 data_emprestimo                data_devolucao                 matricula_ou_siape  tipo_vinculo_usuario  \n",
       "709686         2006017618     2010/01/26 08:07:01.738000000  2010/01/04 08:08:44.081000000  2010/02/25 07:36:25.800000000  2.008112e+09        ALUNO DE PÓS-GRADUAÇÃO    1\n",
       "709687         L184117        2010/01/18 11:07:46.470000000  2010/01/04 08:24:21.284000000  2010/02/03 08:58:45.692000000  2.007211e+08        ALUNO DE GRADUAÇÃO        1\n",
       "709688         2007027500     2010/01/19 15:59:26.464000000  2010/01/04 08:27:33.569000000  2010/02/03 13:06:30.662000000  2.009046e+09        ALUNO DE GRADUAÇÃO        1\n",
       "709689         L157395        2010/01/19 15:59:26.447000000  2010/01/04 08:27:33.596000000  2010/02/03 13:06:43.125000000  2.009046e+09        ALUNO DE GRADUAÇÃO        1\n",
       "709691         2008046357     2010/01/19 11:50:13.404000000  2010/01/04 09:02:30.576000000  2010/02/02 12:13:36.132000000  2.005075e+08        ALUNO DE GRADUAÇÃO        1\n",
       "                                                                                                                                                                        ..\n",
       "10322244       2013089623     2018/01/15 06:32:47.550000000  2017/12/29 16:06:17.387000000  2018/01/30 15:43:22.000000000  2.017000e+10        ALUNO DE GRADUAÇÃO        1\n",
       "10322288       L122565        2018/01/29 14:59:19.705000000  2017/12/29 17:09:38.870000000  2018/02/21 17:18:01.000000000  2.016101e+10        ALUNO DE PÓS-GRADUAÇÃO    1\n",
       "10322308       2017022347     2018/01/29 18:55:50.287000000  2017/12/29 17:17:32.104000000  2018/01/31 14:12:45.000000000  2.016101e+10        ALUNO DE PÓS-GRADUAÇÃO    1\n",
       "10322316       2015046054     2018/01/15 03:13:04.443000000  2017/12/29 17:25:25.068000000  2018/01/30 16:49:20.000000000  2.017014e+10        ALUNO DE GRADUAÇÃO        1\n",
       "10322328       2014070441     2018/01/15 12:26:00.697000000  2017/12/29 18:21:09.060000000  2018/01/31 18:50:25.000000000  2.014063e+09        ALUNO DE GRADUAÇÃO        1\n",
       "Name: count, Length: 968028, dtype: int64"
      ]
     },
     "execution_count": 6,
     "metadata": {},
     "output_type": "execute_result"
    }
   ],
   "source": [
    "emprestimos_df.value_counts()"
   ]
  },
  {
   "cell_type": "markdown",
   "id": "4e1629ea-2706-4fc3-a89e-251072352a8f",
   "metadata": {},
   "source": [
    "## Dados Acervo"
   ]
  },
  {
   "cell_type": "markdown",
   "id": "32422550-795c-4c95-b973-267616eb3d56",
   "metadata": {},
   "source": [
    "### Coleta"
   ]
  },
  {
   "cell_type": "code",
   "execution_count": 7,
   "id": "2d5f0ed1-e8ef-4b30-87ce-e4a815a9b14f",
   "metadata": {},
   "outputs": [
    {
     "data": {
      "text/html": [
       "<div>\n",
       "<style scoped>\n",
       "    .dataframe tbody tr th:only-of-type {\n",
       "        vertical-align: middle;\n",
       "    }\n",
       "\n",
       "    .dataframe tbody tr th {\n",
       "        vertical-align: top;\n",
       "    }\n",
       "\n",
       "    .dataframe thead th {\n",
       "        text-align: right;\n",
       "    }\n",
       "</style>\n",
       "<table border=\"1\" class=\"dataframe\">\n",
       "  <thead>\n",
       "    <tr style=\"text-align: right;\">\n",
       "      <th></th>\n",
       "      <th>id_exemplar</th>\n",
       "      <th>codigo_barras</th>\n",
       "      <th>colecao</th>\n",
       "      <th>biblioteca</th>\n",
       "      <th>status_material</th>\n",
       "      <th>localizacao</th>\n",
       "      <th>registro_sistema</th>\n",
       "    </tr>\n",
       "    <tr>\n",
       "      <th>index</th>\n",
       "      <th></th>\n",
       "      <th></th>\n",
       "      <th></th>\n",
       "      <th></th>\n",
       "      <th></th>\n",
       "      <th></th>\n",
       "      <th></th>\n",
       "    </tr>\n",
       "  </thead>\n",
       "  <tbody>\n",
       "    <tr>\n",
       "      <th>0</th>\n",
       "      <td>5</td>\n",
       "      <td>L000003</td>\n",
       "      <td>Acervo Circulante</td>\n",
       "      <td>Biblioteca Central Zila Mamede</td>\n",
       "      <td>REGULAR</td>\n",
       "      <td>694</td>\n",
       "      <td>1</td>\n",
       "    </tr>\n",
       "    <tr>\n",
       "      <th>1</th>\n",
       "      <td>4</td>\n",
       "      <td>L000002</td>\n",
       "      <td>Acervo Circulante</td>\n",
       "      <td>Biblioteca Central Zila Mamede</td>\n",
       "      <td>REGULAR</td>\n",
       "      <td>688</td>\n",
       "      <td>1</td>\n",
       "    </tr>\n",
       "    <tr>\n",
       "      <th>2</th>\n",
       "      <td>3</td>\n",
       "      <td>L000001</td>\n",
       "      <td>Acervo Circulante</td>\n",
       "      <td>Biblioteca Central Zila Mamede</td>\n",
       "      <td>ESPECIAL</td>\n",
       "      <td>638</td>\n",
       "      <td>1</td>\n",
       "    </tr>\n",
       "    <tr>\n",
       "      <th>3</th>\n",
       "      <td>7</td>\n",
       "      <td>L000114</td>\n",
       "      <td>Acervo Circulante</td>\n",
       "      <td>Biblioteca Central Zila Mamede</td>\n",
       "      <td>REGULAR</td>\n",
       "      <td>616</td>\n",
       "      <td>5</td>\n",
       "    </tr>\n",
       "    <tr>\n",
       "      <th>5</th>\n",
       "      <td>10</td>\n",
       "      <td>L000041</td>\n",
       "      <td>Acervo Circulante</td>\n",
       "      <td>Biblioteca Central Zila Mamede</td>\n",
       "      <td>ESPECIAL</td>\n",
       "      <td>657</td>\n",
       "      <td>15</td>\n",
       "    </tr>\n",
       "  </tbody>\n",
       "</table>\n",
       "</div>"
      ],
      "text/plain": [
       "       id_exemplar codigo_barras            colecao  \\\n",
       "index                                                 \n",
       "0                5       L000003  Acervo Circulante   \n",
       "1                4       L000002  Acervo Circulante   \n",
       "2                3       L000001  Acervo Circulante   \n",
       "3                7       L000114  Acervo Circulante   \n",
       "5               10       L000041  Acervo Circulante   \n",
       "\n",
       "                           biblioteca status_material  localizacao  \\\n",
       "index                                                                \n",
       "0      Biblioteca Central Zila Mamede         REGULAR          694   \n",
       "1      Biblioteca Central Zila Mamede         REGULAR          688   \n",
       "2      Biblioteca Central Zila Mamede        ESPECIAL          638   \n",
       "3      Biblioteca Central Zila Mamede         REGULAR          616   \n",
       "5      Biblioteca Central Zila Mamede        ESPECIAL          657   \n",
       "\n",
       "       registro_sistema  \n",
       "index                    \n",
       "0                     1  \n",
       "1                     1  \n",
       "2                     1  \n",
       "3                     5  \n",
       "5                    15  "
      ]
     },
     "execution_count": 7,
     "metadata": {},
     "output_type": "execute_result"
    }
   ],
   "source": [
    "acervo_df = pd.read_parquet('./datasets/dados_acervo/dados_exemplares.parquet')\n",
    "acervo_df.head()"
   ]
  },
  {
   "cell_type": "markdown",
   "id": "8ff90aab-7041-4b9b-accf-a4304273d466",
   "metadata": {},
   "source": [
    "### Verificando Duplicatas"
   ]
  },
  {
   "cell_type": "code",
   "execution_count": 8,
   "id": "9a197666-ac30-47f3-9270-53f037b23f43",
   "metadata": {},
   "outputs": [
    {
     "data": {
      "text/plain": [
       "id_exemplar  codigo_barras  colecao            biblioteca                                                   status_material  localizacao  registro_sistema\n",
       "3            L000001        Acervo Circulante  Biblioteca Central Zila Mamede                               ESPECIAL         638          1                   1\n",
       "4            L000002        Acervo Circulante  Biblioteca Central Zila Mamede                               REGULAR          688          1                   1\n",
       "5            L000003        Acervo Circulante  Biblioteca Central Zila Mamede                               REGULAR          694          1                   1\n",
       "7            L000114        Acervo Circulante  Biblioteca Central Zila Mamede                               REGULAR          616          5                   1\n",
       "10           L000041        Acervo Circulante  Biblioteca Central Zila Mamede                               ESPECIAL         657          15                  1\n",
       "                                                                                                                                                             ..\n",
       "1353472      2021011150     Acervo Circulante  Biblioteca Setorial do Núcleo de Educação da Infância - NEI  REGULAR          951          268231              1\n",
       "1353473      2019013454     Acervo Circulante  Biblioteca Central Zila Mamede                               ESPECIAL         997          268233              1\n",
       "1353474      2019012811     Acervo Circulante  Biblioteca Central Zila Mamede                               ESPECIAL         987          268234              1\n",
       "1353475      2019013451     Acervo Circulante  Biblioteca Central Zila Mamede                               ESPECIAL         764          268235              1\n",
       "1353476      2019012276     Acervo Circulante  Biblioteca Central Zila Mamede                               ESPECIAL         962          268236              1\n",
       "Name: count, Length: 546237, dtype: int64"
      ]
     },
     "execution_count": 8,
     "metadata": {},
     "output_type": "execute_result"
    }
   ],
   "source": [
    "acervo_df.value_counts()"
   ]
  },
  {
   "cell_type": "markdown",
   "id": "50170856-2d77-47a0-91d3-f15fa2db5eba",
   "metadata": {},
   "source": [
    "### Removendo Duplicatas"
   ]
  },
  {
   "cell_type": "code",
   "execution_count": 9,
   "id": "15ee8dae-eb48-4c80-95a9-28e42f0e54ad",
   "metadata": {},
   "outputs": [
    {
     "data": {
      "text/plain": [
       "id_exemplar  codigo_barras  colecao            biblioteca                                                   status_material  localizacao  registro_sistema\n",
       "3            L000001        Acervo Circulante  Biblioteca Central Zila Mamede                               ESPECIAL         638          1                   1\n",
       "4            L000002        Acervo Circulante  Biblioteca Central Zila Mamede                               REGULAR          688          1                   1\n",
       "5            L000003        Acervo Circulante  Biblioteca Central Zila Mamede                               REGULAR          694          1                   1\n",
       "7            L000114        Acervo Circulante  Biblioteca Central Zila Mamede                               REGULAR          616          5                   1\n",
       "10           L000041        Acervo Circulante  Biblioteca Central Zila Mamede                               ESPECIAL         657          15                  1\n",
       "                                                                                                                                                             ..\n",
       "1353472      2021011150     Acervo Circulante  Biblioteca Setorial do Núcleo de Educação da Infância - NEI  REGULAR          951          268231              1\n",
       "1353473      2019013454     Acervo Circulante  Biblioteca Central Zila Mamede                               ESPECIAL         997          268233              1\n",
       "1353474      2019012811     Acervo Circulante  Biblioteca Central Zila Mamede                               ESPECIAL         987          268234              1\n",
       "1353475      2019013451     Acervo Circulante  Biblioteca Central Zila Mamede                               ESPECIAL         764          268235              1\n",
       "1353476      2019012276     Acervo Circulante  Biblioteca Central Zila Mamede                               ESPECIAL         962          268236              1\n",
       "Name: count, Length: 546237, dtype: int64"
      ]
     },
     "execution_count": 9,
     "metadata": {},
     "output_type": "execute_result"
    }
   ],
   "source": [
    "acervo_df = acervo_df.drop_duplicates()\n",
    "acervo_df.value_counts()"
   ]
  },
  {
   "cell_type": "markdown",
   "id": "03a73ec6-22de-412e-acc9-c4e0fc7d2e83",
   "metadata": {},
   "source": [
    "## Unificando DF Emprestimo com DF Acervo "
   ]
  },
  {
   "cell_type": "code",
   "execution_count": 10,
   "id": "e2638c1a-fa47-4814-8781-f6cc778adc9b",
   "metadata": {},
   "outputs": [
    {
     "data": {
      "text/html": [
       "<div>\n",
       "<style scoped>\n",
       "    .dataframe tbody tr th:only-of-type {\n",
       "        vertical-align: middle;\n",
       "    }\n",
       "\n",
       "    .dataframe tbody tr th {\n",
       "        vertical-align: top;\n",
       "    }\n",
       "\n",
       "    .dataframe thead th {\n",
       "        text-align: right;\n",
       "    }\n",
       "</style>\n",
       "<table border=\"1\" class=\"dataframe\">\n",
       "  <thead>\n",
       "    <tr style=\"text-align: right;\">\n",
       "      <th></th>\n",
       "      <th>id_emprestimo</th>\n",
       "      <th>codigo_barras</th>\n",
       "      <th>data_renovacao</th>\n",
       "      <th>data_emprestimo</th>\n",
       "      <th>data_devolucao</th>\n",
       "      <th>matricula_ou_siape</th>\n",
       "      <th>tipo_vinculo_usuario</th>\n",
       "      <th>id_exemplar</th>\n",
       "      <th>colecao</th>\n",
       "      <th>biblioteca</th>\n",
       "      <th>status_material</th>\n",
       "      <th>localizacao</th>\n",
       "      <th>registro_sistema</th>\n",
       "    </tr>\n",
       "  </thead>\n",
       "  <tbody>\n",
       "    <tr>\n",
       "      <th>0</th>\n",
       "      <td>709684</td>\n",
       "      <td>L095049</td>\n",
       "      <td>NaN</td>\n",
       "      <td>2010/01/04 07:44:10.721000000</td>\n",
       "      <td>2010/01/05 16:26:12.662000000</td>\n",
       "      <td>2.008023e+09</td>\n",
       "      <td>ALUNO DE GRADUAÇÃO</td>\n",
       "      <td>13259</td>\n",
       "      <td>Acervo Circulante</td>\n",
       "      <td>Biblioteca Central Zila Mamede</td>\n",
       "      <td>REGULAR</td>\n",
       "      <td>630</td>\n",
       "      <td>4225</td>\n",
       "    </tr>\n",
       "    <tr>\n",
       "      <th>1</th>\n",
       "      <td>709685</td>\n",
       "      <td>L167050</td>\n",
       "      <td>NaN</td>\n",
       "      <td>2010/01/04 07:44:10.750000000</td>\n",
       "      <td>2010/01/12 07:34:13.934000000</td>\n",
       "      <td>2.008023e+09</td>\n",
       "      <td>ALUNO DE GRADUAÇÃO</td>\n",
       "      <td>70865</td>\n",
       "      <td>Acervo Circulante</td>\n",
       "      <td>Biblioteca Central Zila Mamede</td>\n",
       "      <td>REGULAR</td>\n",
       "      <td>647</td>\n",
       "      <td>25009</td>\n",
       "    </tr>\n",
       "    <tr>\n",
       "      <th>2</th>\n",
       "      <td>709686</td>\n",
       "      <td>2006017618</td>\n",
       "      <td>2010/01/26 08:07:01.738000000</td>\n",
       "      <td>2010/01/04 08:08:44.081000000</td>\n",
       "      <td>2010/02/25 07:36:25.800000000</td>\n",
       "      <td>2.008112e+09</td>\n",
       "      <td>ALUNO DE PÓS-GRADUAÇÃO</td>\n",
       "      <td>195347</td>\n",
       "      <td>Acervo Circulante</td>\n",
       "      <td>Biblioteca Setorial Prof. Rodolfo Helinski - E...</td>\n",
       "      <td>REGULAR</td>\n",
       "      <td>640</td>\n",
       "      <td>75019</td>\n",
       "    </tr>\n",
       "    <tr>\n",
       "      <th>3</th>\n",
       "      <td>709687</td>\n",
       "      <td>L184117</td>\n",
       "      <td>2010/01/18 11:07:46.470000000</td>\n",
       "      <td>2010/01/04 08:24:21.284000000</td>\n",
       "      <td>2010/02/03 08:58:45.692000000</td>\n",
       "      <td>2.007211e+08</td>\n",
       "      <td>ALUNO DE GRADUAÇÃO</td>\n",
       "      <td>131639</td>\n",
       "      <td>Acervo Circulante</td>\n",
       "      <td>Biblioteca Central Zila Mamede</td>\n",
       "      <td>REGULAR</td>\n",
       "      <td>609</td>\n",
       "      <td>44494</td>\n",
       "    </tr>\n",
       "    <tr>\n",
       "      <th>4</th>\n",
       "      <td>709688</td>\n",
       "      <td>2007027500</td>\n",
       "      <td>2010/01/19 15:59:26.464000000</td>\n",
       "      <td>2010/01/04 08:27:33.569000000</td>\n",
       "      <td>2010/02/03 13:06:30.662000000</td>\n",
       "      <td>2.009046e+09</td>\n",
       "      <td>ALUNO DE GRADUAÇÃO</td>\n",
       "      <td>225646</td>\n",
       "      <td>Acervo Circulante</td>\n",
       "      <td>Biblioteca Central Zila Mamede</td>\n",
       "      <td>REGULAR</td>\n",
       "      <td>686</td>\n",
       "      <td>91736</td>\n",
       "    </tr>\n",
       "  </tbody>\n",
       "</table>\n",
       "</div>"
      ],
      "text/plain": [
       "   id_emprestimo codigo_barras                 data_renovacao  \\\n",
       "0         709684       L095049                            NaN   \n",
       "1         709685       L167050                            NaN   \n",
       "2         709686    2006017618  2010/01/26 08:07:01.738000000   \n",
       "3         709687       L184117  2010/01/18 11:07:46.470000000   \n",
       "4         709688    2007027500  2010/01/19 15:59:26.464000000   \n",
       "\n",
       "                 data_emprestimo                 data_devolucao  \\\n",
       "0  2010/01/04 07:44:10.721000000  2010/01/05 16:26:12.662000000   \n",
       "1  2010/01/04 07:44:10.750000000  2010/01/12 07:34:13.934000000   \n",
       "2  2010/01/04 08:08:44.081000000  2010/02/25 07:36:25.800000000   \n",
       "3  2010/01/04 08:24:21.284000000  2010/02/03 08:58:45.692000000   \n",
       "4  2010/01/04 08:27:33.569000000  2010/02/03 13:06:30.662000000   \n",
       "\n",
       "   matricula_ou_siape    tipo_vinculo_usuario  id_exemplar            colecao  \\\n",
       "0        2.008023e+09      ALUNO DE GRADUAÇÃO        13259  Acervo Circulante   \n",
       "1        2.008023e+09      ALUNO DE GRADUAÇÃO        70865  Acervo Circulante   \n",
       "2        2.008112e+09  ALUNO DE PÓS-GRADUAÇÃO       195347  Acervo Circulante   \n",
       "3        2.007211e+08      ALUNO DE GRADUAÇÃO       131639  Acervo Circulante   \n",
       "4        2.009046e+09      ALUNO DE GRADUAÇÃO       225646  Acervo Circulante   \n",
       "\n",
       "                                          biblioteca status_material  \\\n",
       "0                     Biblioteca Central Zila Mamede         REGULAR   \n",
       "1                     Biblioteca Central Zila Mamede         REGULAR   \n",
       "2  Biblioteca Setorial Prof. Rodolfo Helinski - E...         REGULAR   \n",
       "3                     Biblioteca Central Zila Mamede         REGULAR   \n",
       "4                     Biblioteca Central Zila Mamede         REGULAR   \n",
       "\n",
       "   localizacao  registro_sistema  \n",
       "0          630              4225  \n",
       "1          647             25009  \n",
       "2          640             75019  \n",
       "3          609             44494  \n",
       "4          686             91736  "
      ]
     },
     "execution_count": 10,
     "metadata": {},
     "output_type": "execute_result"
    }
   ],
   "source": [
    "df_completo = emprestimos_df.merge(acervo_df)\n",
    "df_completo.head()"
   ]
  },
  {
   "cell_type": "markdown",
   "id": "dd802b31-f9fa-4132-b918-6d27994b6488",
   "metadata": {},
   "source": [
    "# Dia 2 - ???"
   ]
  }
 ],
 "metadata": {
  "kernelspec": {
   "display_name": "Python 3 (ipykernel)",
   "language": "python",
   "name": "python3"
  },
  "language_info": {
   "codemirror_mode": {
    "name": "ipython",
    "version": 3
   },
   "file_extension": ".py",
   "mimetype": "text/x-python",
   "name": "python",
   "nbconvert_exporter": "python",
   "pygments_lexer": "ipython3",
   "version": "3.12.3"
  }
 },
 "nbformat": 4,
 "nbformat_minor": 5
}
